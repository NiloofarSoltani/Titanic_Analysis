{
 "cells": [
  {
   "cell_type": "code",
   "execution_count": 49,
   "metadata": {
    "collapsed": true,
    "pycharm": {
     "name": "#%%\n"
    }
   },
   "outputs": [],
   "source": [
    "import pandas as pd\n",
    "import numpy as np\n",
    "from sklearn.preprocessing import LabelEncoder\n",
    "from sklearn.preprocessing import StandardScaler, MinMaxScaler\n",
    "from sklearn.linear_model import LinearRegression\n",
    "from sklearn.model_selection import train_test_split\n",
    "from sklearn.metrics import classification_report"
   ]
  },
  {
   "cell_type": "code",
   "execution_count": 50,
   "outputs": [],
   "source": [
    "data = pd.read_csv(r\"D:\\pythonInternship\\project1\\titanic.csv\")"
   ],
   "metadata": {
    "collapsed": false,
    "pycharm": {
     "name": "#%%\n"
    }
   }
  },
  {
   "cell_type": "code",
   "execution_count": 51,
   "outputs": [
    {
     "data": {
      "text/plain": "     Survived  Pclass  Sex   Age  SibSp  Parch   Fare  Embarked\n0           0       3    0  22.0      1      0   7.25         2\n1           1       1    1  38.0      1      0  71.28         0\n2           1       3    1  26.0      0      0   7.92         2\n3           1       1    1  35.0      1      0  53.10         2\n4           0       3    0  35.0      0      0   8.05         2\n..        ...     ...  ...   ...    ...    ...    ...       ...\n886         0       2    0  27.0      0      0  13.00         2\n887         1       1    1  19.0      0      0  30.00         2\n888         0       3    1  29.7      1      2  23.45         2\n889         1       1    0  26.0      0      0  30.00         0\n890         0       3    0  32.0      0      0   7.75         1\n\n[891 rows x 8 columns]",
      "text/html": "<div>\n<style scoped>\n    .dataframe tbody tr th:only-of-type {\n        vertical-align: middle;\n    }\n\n    .dataframe tbody tr th {\n        vertical-align: top;\n    }\n\n    .dataframe thead th {\n        text-align: right;\n    }\n</style>\n<table border=\"1\" class=\"dataframe\">\n  <thead>\n    <tr style=\"text-align: right;\">\n      <th></th>\n      <th>Survived</th>\n      <th>Pclass</th>\n      <th>Sex</th>\n      <th>Age</th>\n      <th>SibSp</th>\n      <th>Parch</th>\n      <th>Fare</th>\n      <th>Embarked</th>\n    </tr>\n  </thead>\n  <tbody>\n    <tr>\n      <th>0</th>\n      <td>0</td>\n      <td>3</td>\n      <td>0</td>\n      <td>22.0</td>\n      <td>1</td>\n      <td>0</td>\n      <td>7.25</td>\n      <td>2</td>\n    </tr>\n    <tr>\n      <th>1</th>\n      <td>1</td>\n      <td>1</td>\n      <td>1</td>\n      <td>38.0</td>\n      <td>1</td>\n      <td>0</td>\n      <td>71.28</td>\n      <td>0</td>\n    </tr>\n    <tr>\n      <th>2</th>\n      <td>1</td>\n      <td>3</td>\n      <td>1</td>\n      <td>26.0</td>\n      <td>0</td>\n      <td>0</td>\n      <td>7.92</td>\n      <td>2</td>\n    </tr>\n    <tr>\n      <th>3</th>\n      <td>1</td>\n      <td>1</td>\n      <td>1</td>\n      <td>35.0</td>\n      <td>1</td>\n      <td>0</td>\n      <td>53.10</td>\n      <td>2</td>\n    </tr>\n    <tr>\n      <th>4</th>\n      <td>0</td>\n      <td>3</td>\n      <td>0</td>\n      <td>35.0</td>\n      <td>0</td>\n      <td>0</td>\n      <td>8.05</td>\n      <td>2</td>\n    </tr>\n    <tr>\n      <th>...</th>\n      <td>...</td>\n      <td>...</td>\n      <td>...</td>\n      <td>...</td>\n      <td>...</td>\n      <td>...</td>\n      <td>...</td>\n      <td>...</td>\n    </tr>\n    <tr>\n      <th>886</th>\n      <td>0</td>\n      <td>2</td>\n      <td>0</td>\n      <td>27.0</td>\n      <td>0</td>\n      <td>0</td>\n      <td>13.00</td>\n      <td>2</td>\n    </tr>\n    <tr>\n      <th>887</th>\n      <td>1</td>\n      <td>1</td>\n      <td>1</td>\n      <td>19.0</td>\n      <td>0</td>\n      <td>0</td>\n      <td>30.00</td>\n      <td>2</td>\n    </tr>\n    <tr>\n      <th>888</th>\n      <td>0</td>\n      <td>3</td>\n      <td>1</td>\n      <td>29.7</td>\n      <td>1</td>\n      <td>2</td>\n      <td>23.45</td>\n      <td>2</td>\n    </tr>\n    <tr>\n      <th>889</th>\n      <td>1</td>\n      <td>1</td>\n      <td>0</td>\n      <td>26.0</td>\n      <td>0</td>\n      <td>0</td>\n      <td>30.00</td>\n      <td>0</td>\n    </tr>\n    <tr>\n      <th>890</th>\n      <td>0</td>\n      <td>3</td>\n      <td>0</td>\n      <td>32.0</td>\n      <td>0</td>\n      <td>0</td>\n      <td>7.75</td>\n      <td>1</td>\n    </tr>\n  </tbody>\n</table>\n<p>891 rows × 8 columns</p>\n</div>"
     },
     "execution_count": 51,
     "metadata": {},
     "output_type": "execute_result"
    }
   ],
   "source": [
    "data.drop(['Cabin', 'Ticket','PassengerId', 'Name'], inplace=True, axis=1)\n",
    "mapping = {'male': 0, 'female': 1}\n",
    "data['Sex'] = data['Sex'].map(mapping)\n",
    "mean_age = data['Age'].mean()\n",
    "data['Age'].fillna(mean_age, inplace=True)\n",
    "age_type = data['Age'].astype(int)\n",
    "#this one is wrong bcs the column will not be changed\n",
    "data['Age'] = data['Age'].round(2)\n",
    "# cleaning Fare columns  #1)float(6) to float(2)\n",
    "data['Fare'] = data['Fare'].round(2)\n",
    "# cleaning Embarked columns #1) remove NaN with S value bcz of high amount  #2)categorical to numeric\n",
    "a = len(data['Embarked'])\n",
    "x = data['Embarked'].count()\n",
    "y = data['Embarked'].value_counts()\n",
    "\n",
    "data['Embarked'].fillna('S', inplace=True)\n",
    "label_encoder = LabelEncoder()\n",
    "data['Embarked'] = label_encoder.fit_transform(data['Embarked'])\n",
    "data\n"
   ],
   "metadata": {
    "collapsed": false,
    "pycharm": {
     "name": "#%%\n"
    }
   }
  },
  {
   "cell_type": "code",
   "execution_count": null,
   "outputs": [],
   "source": [
    "features_to_scale = ['Age', 'Fare']\n",
    "data_to_scale = data[features_to_scale]\n",
    "\n",
    "# Standardization using StandardScaler\n",
    "scaler = StandardScaler()\n",
    "df_standardized = scaler.fit_transform(data_to_scale)\n",
    "df_standardized = pd.DataFrame(df_standardized, columns=features_to_scale)\n",
    "\n",
    "# Normalization using MinMaxScaler\n",
    "scaler = MinMaxScaler()\n",
    "df_normalized = scaler.fit_transform(data_to_scale)\n",
    "df_normalized = pd.DataFrame(df_normalized, columns=features_to_scale)\n",
    "\n",
    "# Scaling using custom scaling method (e.g., dividing by max value)\n",
    "max_age = data['Age'].max()\n",
    "max_fare = data['Fare'].max()\n",
    "df_scaled = data_to_scale / max_age  # Example: Scaling by dividing by max Age\n",
    "df_scaled['Fare'] = data_to_scale['Fare'] / max_fare  # Example: Scaling Fare by dividing by max Fare\n",
    "new_data = pd.DataFrame()\n",
    "\n",
    "new_data['Age'] = df_scaled['Age']\n",
    "new_data['Fare'] = df_scaled['Fare']\n",
    "new_data['Pclass'] = data['Pclass']\n",
    "new_data['Sex'] = data['Sex']\n",
    "new_data['SibSp'] = data['SibSp']\n",
    "new_data['Parch'] = data['Parch']\n",
    "new_data['Embarked'] = data['Embarked']\n",
    "new_data['Survived'] = data['Survived']\n",
    "# Load the dataset\n",
    "# Assuming you have a preprocessed Titanic dataset in a DataFrame called 'df'\n",
    "# X is the feature matrix, y is the target variable\n",
    "X = new_data.drop('Survived', axis=1)\n",
    "y = new_data['Survived']\n",
    "\n",
    "# Split the dataset into training and testing sets\n",
    "X_train, X_test, y_train, y_test = train_test_split(X, y, test_size=0.2, random_state=42)\n",
    "\n",
    "# Standardize the training data\n",
    "scaler = StandardScaler()\n",
    "X_train = scaler.fit_transform(X_train)\n",
    "\n",
    "# Train the linear regression model\n",
    "model = LinearRegression()\n",
    "model.fit(X_train, y_train)\n",
    "\n",
    "# Standardize the test data\n",
    "X_test = scaler.transform(X_test)\n",
    "\n",
    "# Predict the test data and compute the R^2 score\n",
    "y_pred = model.predict(X_test)\n",
    "score = model.score(X_test, y_test)\n",
    "\n",
    "# Print the report\n",
    "print('Titanic Dataset Linear Regression Report')\n",
    "print('----------------------------------------')\n",
    "print('Number of passengers:', len(data))\n",
    "print('Number of features:', len(X.columns))\n",
    "print('Number of training samples:', len(X_train))\n",
    "print('Number of test samples:', len(X_test))\n",
    "print('Coefficient values:', model.coef_)\n",
    "print('Intercept value:', model.intercept_)\n",
    "print('R^2 Score:', score)"
   ],
   "metadata": {
    "collapsed": false,
    "pycharm": {
     "name": "#%%\n"
    }
   }
  },
  {
   "cell_type": "code",
   "execution_count": null,
   "outputs": [],
   "source": [
    "features_to_scale = ['Age', 'Fare']\n",
    "data_to_scale = data[features_to_scale]\n",
    "\n",
    "# Standardization using StandardScaler\n",
    "scaler = StandardScaler()\n",
    "data_standardized = scaler.fit_transform(data_to_scale)\n",
    "data_standardized = pd.DataFrame(data_standardized, columns=features_to_scale)\n",
    "\n",
    "# Normalization using MinMaxScaler\n",
    "scaler = MinMaxScaler()\n",
    "data_normalized = scaler.fit_transform(data_to_scale)\n",
    "data_normalized = pd.DataFrame(data_normalized, columns=features_to_scale)\n",
    "\n",
    "# Scaling using custom scaling method (e.g., dividing by max value)\n",
    "max_age = data['Age'].max()\n",
    "max_fare = data['Fare'].max()\n",
    "df_scaled = data_to_scale / max_age  # Example: Scaling by dividing by max Age\n",
    "df_scaled['Fare'] = data_to_scale['Fare'] / max_fare  # Example: Scaling Fare by dividing by max Fare\n",
    "new_data = pd.DataFrame()\n",
    "\n",
    "new_data['Age'] = df_scaled['Age']\n",
    "new_data['Fare'] = df_scaled['Fare']\n",
    "new_data['Pclass'] = data['Pclass']\n",
    "new_data['Sex'] = data['Sex']\n",
    "new_data['SibSp'] = data['SibSp']\n",
    "new_data['Parch'] = data['Parch']\n",
    "new_data['Embarked'] = data['Embarked']\n",
    "new_data['Survived'] = data['Survived']\n",
    "# Load the dataset\n",
    "# Assuming you have a preprocessed Titanic dataset in a DataFrame called 'df'\n",
    "# X is the feature matrix, y is the target variable\n",
    "X = new_data.drop('Survived', axis=1)\n",
    "y = new_data['Survived']\n",
    "\n",
    "# Split the dataset into training and testing sets\n",
    "X_train, X_test, y_train, y_test = train_test_split(X, y, test_size=0.2, random_state=42)\n",
    "\n",
    "# Standardize the training data\n",
    "scaler = StandardScaler()\n",
    "X_train = scaler.fit_transform(X_train)\n",
    "\n",
    "# Train the linear regression model\n",
    "model = LinearRegression()\n",
    "model.fit(X_train, y_train)\n",
    "\n",
    "# Standardize the test data\n",
    "X_test = scaler.transform(X_test)\n",
    "\n",
    "# Predict the test data and compute the R^2 score\n",
    "y_pred = model.predict(X_test)\n",
    "score = model.score(X_test, y_test)\n",
    "\n",
    "# Convert predictions to binary values (0 or 1) based on a threshold of 0.5\n",
    "y_pred_binary = (y_pred >= 0.5).astype(int)\n",
    "\n",
    "# Calculate the number of passengers who survived and the total number of passengers\n",
    "num_survived = np.sum(y_pred_binary)\n",
    "total_passengers = len(y_pred_binary)\n",
    "\n",
    "# Calculate the percentage of passengers who survived\n",
    "survival_rate = num_survived / total_passengers * 100\n",
    "\n",
    "print(\"Number of passengers who survived:\", num_survived)\n",
    "print(\"Total number of passengers:\", total_passengers)\n",
    "print(\"Survival rate: {:.2f}%\".format(survival_rate))"
   ],
   "metadata": {
    "collapsed": false,
    "pycharm": {
     "name": "#%%\n"
    }
   }
  },
  {
   "cell_type": "code",
   "execution_count": 52,
   "outputs": [
    {
     "ename": "ValueError",
     "evalue": "Classification metrics can't handle a mix of binary and continuous targets",
     "output_type": "error",
     "traceback": [
      "\u001B[1;31m---------------------------------------------------------------------------\u001B[0m",
      "\u001B[1;31mValueError\u001B[0m                                Traceback (most recent call last)",
      "Cell \u001B[1;32mIn[52], line 49\u001B[0m\n\u001B[0;32m     47\u001B[0m X_test \u001B[38;5;241m=\u001B[39m scaler\u001B[38;5;241m.\u001B[39mtransform(X_test)\n\u001B[0;32m     48\u001B[0m y_pred \u001B[38;5;241m=\u001B[39m model\u001B[38;5;241m.\u001B[39mpredict(X_test)\n\u001B[1;32m---> 49\u001B[0m report \u001B[38;5;241m=\u001B[39m \u001B[43mclassification_report\u001B[49m\u001B[43m(\u001B[49m\u001B[43my_test\u001B[49m\u001B[43m,\u001B[49m\u001B[43m \u001B[49m\u001B[43my_pred\u001B[49m\u001B[43m)\u001B[49m\n\u001B[0;32m     50\u001B[0m \u001B[38;5;28mprint\u001B[39m(report)\n",
      "File \u001B[1;32m~\\AppData\\Local\\Programs\\Python\\Python311\\Lib\\site-packages\\sklearn\\metrics\\_classification.py:2310\u001B[0m, in \u001B[0;36mclassification_report\u001B[1;34m(y_true, y_pred, labels, target_names, sample_weight, digits, output_dict, zero_division)\u001B[0m\n\u001B[0;32m   2195\u001B[0m \u001B[38;5;28;01mdef\u001B[39;00m \u001B[38;5;21mclassification_report\u001B[39m(\n\u001B[0;32m   2196\u001B[0m     y_true,\n\u001B[0;32m   2197\u001B[0m     y_pred,\n\u001B[1;32m   (...)\u001B[0m\n\u001B[0;32m   2204\u001B[0m     zero_division\u001B[38;5;241m=\u001B[39m\u001B[38;5;124m\"\u001B[39m\u001B[38;5;124mwarn\u001B[39m\u001B[38;5;124m\"\u001B[39m,\n\u001B[0;32m   2205\u001B[0m ):\n\u001B[0;32m   2206\u001B[0m \u001B[38;5;250m    \u001B[39m\u001B[38;5;124;03m\"\"\"Build a text report showing the main classification metrics.\u001B[39;00m\n\u001B[0;32m   2207\u001B[0m \n\u001B[0;32m   2208\u001B[0m \u001B[38;5;124;03m    Read more in the :ref:`User Guide <classification_report>`.\u001B[39;00m\n\u001B[1;32m   (...)\u001B[0m\n\u001B[0;32m   2307\u001B[0m \u001B[38;5;124;03m    <BLANKLINE>\u001B[39;00m\n\u001B[0;32m   2308\u001B[0m \u001B[38;5;124;03m    \"\"\"\u001B[39;00m\n\u001B[1;32m-> 2310\u001B[0m     y_type, y_true, y_pred \u001B[38;5;241m=\u001B[39m \u001B[43m_check_targets\u001B[49m\u001B[43m(\u001B[49m\u001B[43my_true\u001B[49m\u001B[43m,\u001B[49m\u001B[43m \u001B[49m\u001B[43my_pred\u001B[49m\u001B[43m)\u001B[49m\n\u001B[0;32m   2312\u001B[0m     \u001B[38;5;28;01mif\u001B[39;00m labels \u001B[38;5;129;01mis\u001B[39;00m \u001B[38;5;28;01mNone\u001B[39;00m:\n\u001B[0;32m   2313\u001B[0m         labels \u001B[38;5;241m=\u001B[39m unique_labels(y_true, y_pred)\n",
      "File \u001B[1;32m~\\AppData\\Local\\Programs\\Python\\Python311\\Lib\\site-packages\\sklearn\\metrics\\_classification.py:95\u001B[0m, in \u001B[0;36m_check_targets\u001B[1;34m(y_true, y_pred)\u001B[0m\n\u001B[0;32m     92\u001B[0m     y_type \u001B[38;5;241m=\u001B[39m {\u001B[38;5;124m\"\u001B[39m\u001B[38;5;124mmulticlass\u001B[39m\u001B[38;5;124m\"\u001B[39m}\n\u001B[0;32m     94\u001B[0m \u001B[38;5;28;01mif\u001B[39;00m \u001B[38;5;28mlen\u001B[39m(y_type) \u001B[38;5;241m>\u001B[39m \u001B[38;5;241m1\u001B[39m:\n\u001B[1;32m---> 95\u001B[0m     \u001B[38;5;28;01mraise\u001B[39;00m \u001B[38;5;167;01mValueError\u001B[39;00m(\n\u001B[0;32m     96\u001B[0m         \u001B[38;5;124m\"\u001B[39m\u001B[38;5;124mClassification metrics can\u001B[39m\u001B[38;5;124m'\u001B[39m\u001B[38;5;124mt handle a mix of \u001B[39m\u001B[38;5;132;01m{0}\u001B[39;00m\u001B[38;5;124m and \u001B[39m\u001B[38;5;132;01m{1}\u001B[39;00m\u001B[38;5;124m targets\u001B[39m\u001B[38;5;124m\"\u001B[39m\u001B[38;5;241m.\u001B[39mformat(\n\u001B[0;32m     97\u001B[0m             type_true, type_pred\n\u001B[0;32m     98\u001B[0m         )\n\u001B[0;32m     99\u001B[0m     )\n\u001B[0;32m    101\u001B[0m \u001B[38;5;66;03m# We can't have more than one value on y_type => The set is no more needed\u001B[39;00m\n\u001B[0;32m    102\u001B[0m y_type \u001B[38;5;241m=\u001B[39m y_type\u001B[38;5;241m.\u001B[39mpop()\n",
      "\u001B[1;31mValueError\u001B[0m: Classification metrics can't handle a mix of binary and continuous targets"
     ]
    }
   ],
   "source": [
    "features_to_scale = ['Age', 'Fare']\n",
    "data_to_scale = data[features_to_scale]\n",
    "\n",
    "# Standardization using StandardScaler\n",
    "scaler = StandardScaler()\n",
    "data_standardized = scaler.fit_transform(data_to_scale)\n",
    "data_standardized = pd.DataFrame(data_standardized, columns=features_to_scale)\n",
    "\n",
    "# Normalization using MinMaxScaler\n",
    "scaler = MinMaxScaler()\n",
    "data_normalized = scaler.fit_transform(data_to_scale)\n",
    "data_normalized = pd.DataFrame(data_normalized, columns=features_to_scale)\n",
    "\n",
    "# Scaling using custom scaling method (e.g., dividing by max value)\n",
    "max_age = data['Age'].max()\n",
    "max_fare = data['Fare'].max()\n",
    "df_scaled = data_to_scale / max_age  # Example: Scaling by dividing by max Age\n",
    "df_scaled['Fare'] = data_to_scale['Fare'] / max_fare  # Example: Scaling Fare by dividing by max Fare\n",
    "new_data = pd.DataFrame()\n",
    "\n",
    "new_data['Age'] = df_scaled['Age']\n",
    "new_data['Fare'] = df_scaled['Fare']\n",
    "new_data['Pclass'] = data['Pclass']\n",
    "new_data['Sex'] = data['Sex']\n",
    "new_data['SibSp'] = data['SibSp']\n",
    "new_data['Parch'] = data['Parch']\n",
    "new_data['Embarked'] = data['Embarked']\n",
    "new_data['Survived'] = data['Survived']\n",
    "# Load the dataset\n",
    "# Assuming you have a preprocessed Titanic dataset in a DataFrame called 'df'\n",
    "# X is the feature matrix, y is the target variable\n",
    "X = new_data.drop('Survived', axis=1)\n",
    "y = new_data['Survived']\n",
    "\n",
    "# Split the dataset into training and testing sets\n",
    "X_train, X_test, y_train, y_test = train_test_split(X, y, test_size=0.2, random_state=42)\n",
    "\n",
    "# Standardize the training data\n",
    "scaler = StandardScaler()\n",
    "X_train = scaler.fit_transform(X_train)\n",
    "\n",
    "# Train the linear regression model\n",
    "model = LinearRegression()\n",
    "model.fit(X_train, y_train)\n",
    "\n",
    "# Standardize the test data\n",
    "X_test = scaler.transform(X_test)\n",
    "y_pred = model.predict(X_test)\n",
    "report = classification_report(y_test, y_pred)\n",
    "print(report)"
   ],
   "metadata": {
    "collapsed": false,
    "pycharm": {
     "name": "#%%\n"
    }
   }
  }
 ],
 "metadata": {
  "kernelspec": {
   "display_name": "Python 3",
   "language": "python",
   "name": "python3"
  },
  "language_info": {
   "codemirror_mode": {
    "name": "ipython",
    "version": 2
   },
   "file_extension": ".py",
   "mimetype": "text/x-python",
   "name": "python",
   "nbconvert_exporter": "python",
   "pygments_lexer": "ipython2",
   "version": "2.7.6"
  }
 },
 "nbformat": 4,
 "nbformat_minor": 0
}