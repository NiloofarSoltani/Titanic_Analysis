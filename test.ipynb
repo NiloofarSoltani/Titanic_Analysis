{
 "cells": [
  {
   "cell_type": "code",
   "execution_count": 31,
   "metadata": {
    "collapsed": true,
    "pycharm": {
     "name": "#%%\n"
    }
   },
   "outputs": [
    {
     "data": {
      "text/plain": "               class      order  max_speed\nfalcon   mohamadreza          A         20\nparrot          bird          B          1\nlion          mammal  Carnivora          0\nmonkey        mammal   Primates        100\nleopard       mammal  Carnivora          1",
      "text/html": "<div>\n<style scoped>\n    .dataframe tbody tr th:only-of-type {\n        vertical-align: middle;\n    }\n\n    .dataframe tbody tr th {\n        vertical-align: top;\n    }\n\n    .dataframe thead th {\n        text-align: right;\n    }\n</style>\n<table border=\"1\" class=\"dataframe\">\n  <thead>\n    <tr style=\"text-align: right;\">\n      <th></th>\n      <th>class</th>\n      <th>order</th>\n      <th>max_speed</th>\n    </tr>\n  </thead>\n  <tbody>\n    <tr>\n      <th>falcon</th>\n      <td>mohamadreza</td>\n      <td>A</td>\n      <td>20</td>\n    </tr>\n    <tr>\n      <th>parrot</th>\n      <td>bird</td>\n      <td>B</td>\n      <td>1</td>\n    </tr>\n    <tr>\n      <th>lion</th>\n      <td>mammal</td>\n      <td>Carnivora</td>\n      <td>0</td>\n    </tr>\n    <tr>\n      <th>monkey</th>\n      <td>mammal</td>\n      <td>Primates</td>\n      <td>100</td>\n    </tr>\n    <tr>\n      <th>leopard</th>\n      <td>mammal</td>\n      <td>Carnivora</td>\n      <td>1</td>\n    </tr>\n  </tbody>\n</table>\n</div>"
     },
     "execution_count": 31,
     "metadata": {},
     "output_type": "execute_result"
    }
   ],
   "source": [
    "import pandas as pd\n",
    "import numpy as np\n",
    "\n",
    "speeds = pd.DataFrame(\n",
    "    [\n",
    "        (\"mohamadreza\", \"A\", 20),\n",
    "        (\"bird\", \"B\", 1),\n",
    "        (\"mammal\", \"Carnivora\", 0),\n",
    "        (\"mammal\", \"Primates\", 100),\n",
    "        (\"mammal\", \"Carnivora\", 1),\n",
    "    ],\n",
    "    index=[\"falcon\", \"parrot\", \"lion\", \"monkey\", \"leopard\"],\n",
    "    columns=(\"class\", \"order\", \"max_speed\"),\n",
    ")\n",
    "speeds"
   ]
  },
  {
   "cell_type": "code",
   "execution_count": 32,
   "outputs": [
    {
     "name": "stdout",
     "output_type": "stream",
     "text": [
      "Point:1,2\n",
      "blue\n"
     ]
    }
   ],
   "source": [
    "class Point:\n",
    "    classlevelatt = \"blue\"\n",
    "    def __init__(self, x, y):\n",
    "        self.x = x\n",
    "        self.y = y\n",
    "\n",
    "    def draw(self):\n",
    "        print(f\"Point:{self.x},{self.y}\")\n",
    "\n",
    "\n",
    "point = Point(1,2)\n",
    "point.draw()\n",
    "print(point.classlevelatt)\n"
   ],
   "metadata": {
    "collapsed": false,
    "pycharm": {
     "name": "#%%\n"
    }
   }
  },
  {
   "cell_type": "code",
   "execution_count": 33,
   "outputs": [
    {
     "name": "stdout",
     "output_type": "stream",
     "text": [
      "blue\n"
     ]
    }
   ],
   "source": [
    "print(Point.classlevelatt)"
   ],
   "metadata": {
    "collapsed": false,
    "pycharm": {
     "name": "#%%\n"
    }
   }
  },
  {
   "cell_type": "code",
   "execution_count": 24,
   "outputs": [
    {
     "name": "stdout",
     "output_type": "stream",
     "text": [
      "pink\n",
      "pink\n"
     ]
    }
   ],
   "source": [
    "#point.classlevelatt = \"red\"\n",
    "#Point.classlevelatt = \"pink\"\n",
    "\n",
    "print(point.classlevelatt)\n",
    "print(Point.classlevelatt)\n"
   ],
   "metadata": {
    "collapsed": false,
    "pycharm": {
     "name": "#%%\n"
    }
   }
  },
  {
   "cell_type": "code",
   "execution_count": 6,
   "outputs": [
    {
     "name": "stdout",
     "output_type": "stream",
     "text": [
      "Original DataFrame:\n",
      "       A     B     C\n",
      "0  129.0   NaN  91.0\n",
      "1  122.0  22.0  23.0\n",
      "2    NaN  34.0  73.0\n",
      "3   48.0   NaN  43.0\n",
      "4   35.0  53.0   NaN\n",
      "\n",
      "DataFrame after linear interpolation:\n",
      "       A     B     C\n",
      "0  129.0   NaN  91.0\n",
      "1  122.0  22.0  23.0\n",
      "2   85.0  34.0  73.0\n",
      "3   48.0  43.5  43.0\n",
      "4   35.0  53.0  43.0\n"
     ]
    }
   ],
   "source": [
    "import pandas as pd\n",
    "\n",
    "# Create a sample DataFrame with missing values\n",
    "df = pd.DataFrame({'A': [129, 122, np.nan, 48, 35],\n",
    "                   'B': [np.nan, 22, 34, np.nan, 53],\n",
    "                   'C': [91, 23, 73, 43, np.nan]})\n",
    "\n",
    "print(\"Original DataFrame:\")\n",
    "print(df)\n",
    "\n",
    "# Perform linear interpolation along columns (forward fill by default)\n",
    "df_interpolated = df.interpolate()\n",
    "\n",
    "print(\"\\nDataFrame after linear interpolation:\")\n",
    "print(df_interpolated)"
   ],
   "metadata": {
    "collapsed": false,
    "pycharm": {
     "name": "#%%\n"
    }
   }
  },
  {
   "cell_type": "code",
   "execution_count": 4,
   "outputs": [
    {
     "name": "stdout",
     "output_type": "stream",
     "text": [
      "None\n"
     ]
    }
   ],
   "source": [],
   "metadata": {
    "collapsed": false,
    "pycharm": {
     "name": "#%%\n"
    }
   }
  },
  {
   "cell_type": "code",
   "execution_count": null,
   "outputs": [],
   "source": [
    "\n",
    "\n"
   ],
   "metadata": {
    "collapsed": false,
    "pycharm": {
     "name": "#%%\n"
    }
   }
  }
 ],
 "metadata": {
  "kernelspec": {
   "display_name": "Python 3",
   "language": "python",
   "name": "python3"
  },
  "language_info": {
   "codemirror_mode": {
    "name": "ipython",
    "version": 2
   },
   "file_extension": ".py",
   "mimetype": "text/x-python",
   "name": "python",
   "nbconvert_exporter": "python",
   "pygments_lexer": "ipython2",
   "version": "2.7.6"
  }
 },
 "nbformat": 4,
 "nbformat_minor": 0
}